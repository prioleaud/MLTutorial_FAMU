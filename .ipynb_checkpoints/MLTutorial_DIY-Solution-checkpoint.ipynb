{
 "cells": [
  {
   "cell_type": "markdown",
   "metadata": {},
   "source": [
    "# **Machine Learning Exercise Solution: FAMU-FSU COE Visit**\n",
    "\n",
    "## **Running the notebook:**\n",
    "\n",
    "Problem Definition:\n",
    "The datasets consists of the following 10 features:\n",
    "   1. Sample code number            id number\n",
    "   2. Clump Thickness               1 - 10\n",
    "   3. Uniformity of Cell Size       1 - 10\n",
    "   4. Uniformity of Cell Shape      1 - 10\n",
    "   5. Marginal Adhesion             1 - 10\n",
    "   6. Single Epithelial Cell Size   1 - 10\n",
    "   7. Bare Nuclei                   1 - 10\n",
    "   8. Bland Chromatin               1 - 10\n",
    "   9. Normal Nucleoli               1 - 10\n",
    "   10. Mitoses                       1 - 10\n",
    "   11. Class                       (2 for benign, 4 for malignant)\n",
    "\n",
    "\n",
    "The task here is to use the attributes to predict if a tumor is benign or malignant.  \n",
    "\n",
    "You can find the dataset at the following link: \n",
    "https://archive.ics.uci.edu/ml/datasets/Breast+Cancer+Wisconsin+%28Diagnostic%29\n",
    "\n",
    "Like the tutorial, we will proceed with the following tasks:\n",
    "\n",
    "Step 1: Data Preparation\n",
    "\n",
    "Step 2: Data Exploration\n",
    "\n",
    "Step 3: Prediction of tumors\n",
    "\n",
    "Step 4: Metrics to Analyze the performance of your model\n",
    "\n"
   ]
  },
  {
   "cell_type": "markdown",
   "metadata": {},
   "source": [
    "The libraries are already declared for your convenience but feel free to add any other libraries that you know could be helpful in your analysis. "
   ]
  },
  {
   "cell_type": "code",
   "execution_count": 2,
   "metadata": {
    "collapsed": true
   },
   "outputs": [],
   "source": [
    "import numpy as np\n",
    "import pandas as pd\n",
    "import scipy\n",
    "import matplotlib.pyplot as plt\n",
    "from sklearn.model_selection import train_test_split\n",
    "import itertools\n",
    "from sklearn.neighbors import KNeighborsClassifier\n",
    "%matplotlib inline\n",
    "import warnings\n",
    "warnings.filterwarnings('ignore')"
   ]
  },
  {
   "cell_type": "markdown",
   "metadata": {},
   "source": [
    "As we mentioned in the tutorial, the first step would focus on cleaning and preparing your data. Use the code in the following cell to clean and make ready your data. "
   ]
  },
  {
   "cell_type": "code",
   "execution_count": 3,
   "metadata": {
    "collapsed": true
   },
   "outputs": [],
   "source": [
    "#cleaning data and split it into train and test\n",
    "#names = ['codeNumber','clumpThickness','CellSize','Cellshape','MarginalAdhesion','EpithelialCellSize','BareNuclei','BlandChromatin','NormalNucleoli','Mitoses','Class']\n",
    "data = pd.read_csv('data_numerical.csv',header=None)\n",
    "#replacing missing values by zero but there are many different ways to handle them.\n",
    "data = data.replace(\"?\",0)\n",
    "data = data.as_matrix()\n",
    "ncolumns = len(data[1]) - 1\n",
    "\n",
    "data[:,ncolumns] = pd.factorize(data[:,ncolumns])[0]\n",
    "data[:,ncolumns] = data[:,ncolumns].astype(int)"
   ]
  },
  {
   "cell_type": "markdown",
   "metadata": {},
   "source": [
    "Now that your data is ready you could proceed. In this step you would use methods and visualizations to know more about your data. You would not be able to do a comprehensive and good analysis without knowing your data. "
   ]
  },
  {
   "cell_type": "code",
   "execution_count": 37,
   "metadata": {},
   "outputs": [
    {
     "data": {
      "text/plain": [
       "<matplotlib.axes._subplots.AxesSubplot at 0x1a26efccc0>"
      ]
     },
     "execution_count": 37,
     "metadata": {},
     "output_type": "execute_result"
    },
    {
     "data": {
      "image/png": "[encoded data removed]",
      "text/plain": [
       "<matplotlib.figure.Figure at 0x1a23c8d9b0>"
      ]
     },
     "metadata": {},
     "output_type": "display_data"
    }
   ],
   "source": [
    "#data exploration and visualization to know your data better\n",
    "import seaborn as sns\n",
    "data_visual = pd.DataFrame(data)\n",
    "data_visual.columns = ['codeNumber','clumpThickness','CellSize','Cellshape','MarginalAdhesion','EpithelialCellSize','BareNuclei','BlandChromatin','NormalNucleoli','Mitoses','Class']\n",
    "#get the infromation about the dataframe such as frequency, unique values and standard deviation\n",
    "data_visual.info()\n",
    "data_visual.describe()\n",
    "#visualization\n",
    "data_visual.CellSize = pd.to_numeric(data_visual.CellSize, errors='ignore')\n",
    "data_visual.Cellshape = pd.to_numeric(data_visual.Cellshape, errors='ignore')\n",
    "data_visual.plot(kind='bar',x='CellSize',y='Class')"
   ]
  },
  {
   "cell_type": "markdown",
   "metadata": {},
   "source": [
    "You acquired knowledge about your data which is a necessity in any data sciene project. Now, try to use your knowledge to define the classification model which helps you in predicting the tumors. "
   ]
  },
  {
   "cell_type": "code",
   "execution_count": 14,
   "metadata": {
    "collapsed": true
   },
   "outputs": [],
   "source": [
    "#Split data into test and train data\n",
    "X_train, X_test, y_train, y_test = train_test_split(data,data[:,ncolumns].astype(int),test_size=0.3)\n",
    "\n",
    "#k-Nearest Neighbors Algorithm\n",
    "\n",
    "neighbors = KNeighborsClassifier(n_neighbors=17,metric='euclidean')\n",
    "\n",
    "#Create the model with the training set\n",
    "neighbors.fit(X_train,y_train)\n",
    "\n",
    "#Predict the class of each instance in the test set\n",
    "y_predicted = neighbors.predict(X_test)"
   ]
  },
  {
   "cell_type": "markdown",
   "metadata": {},
   "source": [
    "Until now, you defined the classification model and made some prediction out of the test data. However, you do not know how well your model performs. Therefore, you need to spend some time to assess the model performance using the metrics including: accuracy, precision, recall and F1-score. "
   ]
  },
  {
   "cell_type": "code",
   "execution_count": 15,
   "metadata": {},
   "outputs": [
    {
     "name": "stdout",
     "output_type": "stream",
     "text": [
      "[[124  15]\n",
      " [ 53  18]]\n",
      "Accuracy:  67.61904761904762 %\n"
     ]
    }
   ],
   "source": [
    "#assess the model performance using the wellknown metrics \n",
    "from sklearn.metrics import confusion_matrix, accuracy_score\n",
    "\n",
    "print(confusion_matrix(y_test,y_predicted))\n",
    "print('Accuracy: ', accuracy_score(y_test,y_predicted)*100, '%')"
   ]
  },
  {
   "cell_type": "markdown",
   "metadata": {},
   "source": [
    "Great Job! You finished the excercise successfully. Make sure to check the solution notebook if you have any confusion or problem. "
   ]
  },
  {
   "cell_type": "code",
   "execution_count": null,
   "metadata": {
    "collapsed": true
   },
   "outputs": [],
   "source": []
  },
  {
   "cell_type": "code",
   "execution_count": null,
   "metadata": {
    "collapsed": true
   },
   "outputs": [],
   "source": []
  }
 ],
 "metadata": {
  "kernelspec": {
   "display_name": "Python 3",
   "language": "python",
   "name": "python3"
  },
  "language_info": {
   "codemirror_mode": {
    "name": "ipython",
    "version": 3
   },
   "file_extension": ".py",
   "mimetype": "text/x-python",
   "name": "python",
   "nbconvert_exporter": "python",
   "pygments_lexer": "ipython3",
   "version": "3.6.3"
  }
 },
 "nbformat": 4,
 "nbformat_minor": 2
}
