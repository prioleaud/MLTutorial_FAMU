{
 "cells": [
  {
   "cell_type": "markdown",
   "metadata": {},
   "source": [
    "# **Machine Learning Exercise: FAMU-FSU COE Visit**\n",
    "\n",
    "## **Running the notebook:**\n",
    "\n",
    "Problem Definition:\n",
    "The datasets consists of 10 features as described following:\n",
    "1. Class: no-recurrence-events, recurrence-events \n",
    "2. age: 10-19, 20-29, 30-39, 40-49, 50-59, 60-69, 70-79, 80-89, 90-99. \n",
    "3. menopause: lt40, ge40, premeno. \n",
    "4. tumor-size: 0-4, 5-9, 10-14, 15-19, 20-24, 25-29, 30-34, 35-39, 40-44, 45-49, 50-54, 55-59. \n",
    "5. inv-nodes: 0-2, 3-5, 6-8, 9-11, 12-14, 15-17, 18-20, 21-23, 24-26, 27-29, 30-32, 33-35, 36-39. \n",
    "6. node-caps: yes, no. \n",
    "7. deg-malig: 1, 2, 3. \n",
    "8. breast: left, right. \n",
    "9. breast-quad: left-up, left-low, right-up,\tright-low, central. \n",
    "10. irradiat:\tyes, no.\n",
    "\n",
    "The task here is to use the attributes to predict if a tumor is none recurrent or recurrent events .  \n",
    "\n",
    "You can find the dataset at the following link: \n",
    "https://archive.ics.uci.edu/ml/datasets/breast+cancer\n",
    "\n",
    "Like the tutorial, we will proceed with the following tasks:\n",
    "\n",
    "Step 1: Data Preparation\n",
    "\n",
    "Step 2: Data Exploration\n",
    "\n",
    "Step 3: Prediction of tumors\n",
    "\n",
    "Step 4: Metrics to Analyze the performance of your model\n",
    "\n"
   ]
  },
  {
   "cell_type": "markdown",
   "metadata": {},
   "source": [
    "The libraries are already declared for your convinience but feel free to add any other libraries that you know which could be helpful in yout analysis. "
   ]
  },
  {
   "cell_type": "code",
   "execution_count": 1,
   "metadata": {
    "collapsed": true
   },
   "outputs": [],
   "source": [
    "import numpy as np\n",
    "import pandas as pd\n",
    "import scipy\n",
    "import matplotlib.pyplot as plt\n",
    "from sklearn.model_selection import train_test_split\n",
    "import itertools\n",
    "%matplotlib inline\n",
    "import warnings\n",
    "warnings.filterwarnings('ignore')"
   ]
  },
  {
   "cell_type": "markdown",
   "metadata": {},
   "source": [
    "As we mentioned in the tutorial, the first step would focus on cleaning and preparing your data. Use codes in the following cell to clean and make ready your data"
   ]
  },
  {
   "cell_type": "code",
   "execution_count": 2,
   "metadata": {
    "collapsed": true
   },
   "outputs": [],
   "source": [
    "#cleaning data and split it into train and test"
   ]
  },
  {
   "cell_type": "markdown",
   "metadata": {},
   "source": [
    "Now that your data is ready you could proceed. In this step you would use methods and visualizations to know more about your data. You would not be able to do a comprehensive and good analysis without knowing your data. "
   ]
  },
  {
   "cell_type": "code",
   "execution_count": 3,
   "metadata": {
    "collapsed": true
   },
   "outputs": [],
   "source": [
    "#data exploration and visualization to know your data better"
   ]
  },
  {
   "cell_type": "markdown",
   "metadata": {},
   "source": [
    "You acquired knowledge about your data which is a necessity in any data sciene project. Now, try to use your knowledge to define the classification model which helps you in predicting the tumors. "
   ]
  },
  {
   "cell_type": "code",
   "execution_count": 4,
   "metadata": {
    "collapsed": true
   },
   "outputs": [],
   "source": [
    "#defining the classification model to predict the tumors"
   ]
  },
  {
   "cell_type": "markdown",
   "metadata": {},
   "source": [
    "Until now, you defined the classification model and made some prediction out of the test data. However, you do not know how well your model performs. Therefore, you need to spend some time to assess the model performance using the metrics including: accuracy, precision, recall and F1-score. "
   ]
  },
  {
   "cell_type": "code",
   "execution_count": 5,
   "metadata": {
    "collapsed": true
   },
   "outputs": [],
   "source": [
    "#assess the model performance using the wellknown metrics "
   ]
  },
  {
   "cell_type": "markdown",
   "metadata": {},
   "source": [
    "Great Job! You finished the excercise successfully. Make sure to check the solution notebook if you have any confusion or problem. "
   ]
  },
  {
   "cell_type": "code",
   "execution_count": null,
   "metadata": {
    "collapsed": true
   },
   "outputs": [],
   "source": []
  }
 ],
 "metadata": {
  "kernelspec": {
   "display_name": "Python 3",
   "language": "python",
   "name": "python3"
  },
  "language_info": {
   "codemirror_mode": {
    "name": "ipython",
    "version": 3
   },
   "file_extension": ".py",
   "mimetype": "text/x-python",
   "name": "python",
   "nbconvert_exporter": "python",
   "pygments_lexer": "ipython3",
   "version": "3.6.3"
  }
 },
 "nbformat": 4,
 "nbformat_minor": 2
}
